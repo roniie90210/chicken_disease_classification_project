{
 "cells": [
  {
   "cell_type": "code",
   "execution_count": 1,
   "metadata": {},
   "outputs": [],
   "source": [
    "import os"
   ]
  },
  {
   "cell_type": "code",
   "execution_count": 2,
   "metadata": {},
   "outputs": [
    {
     "data": {
      "text/plain": [
       "'c:\\\\Users\\\\Rohan Brahmakshatri\\\\Documents\\\\Python Scripts\\\\EndtoEnd_Project\\\\chicken_disease_classification_project\\\\research'"
      ]
     },
     "execution_count": 2,
     "metadata": {},
     "output_type": "execute_result"
    }
   ],
   "source": [
    "%pwd"
   ]
  },
  {
   "cell_type": "code",
   "execution_count": 3,
   "metadata": {},
   "outputs": [],
   "source": [
    "os.chdir('..')"
   ]
  },
  {
   "cell_type": "code",
   "execution_count": 4,
   "metadata": {},
   "outputs": [],
   "source": [
    "from dataclasses import dataclass\n",
    "from pathlib import Path\n",
    "\n",
    "@dataclass(frozen=True)\n",
    "class PrepareCallbacksConfig:\n",
    "    root_dir: Path\n",
    "    tensorboard_root_log_dir: Path\n",
    "    checkpoint_model_filepath: Path"
   ]
  },
  {
   "cell_type": "code",
   "execution_count": 5,
   "metadata": {},
   "outputs": [],
   "source": [
    "from cnnClassifiers.constants import *\n",
    "from cnnClassifiers.utils.common import read_yaml,create_dictionaries"
   ]
  },
  {
   "cell_type": "code",
   "execution_count": 6,
   "metadata": {},
   "outputs": [],
   "source": [
    "class ConfigurationManager:\n",
    "    def __init__(\n",
    "        self,\n",
    "        config_filepath = CONFIG_FILE_PATH,\n",
    "        params_filepath = PARAMS_FILE_PATH):\n",
    "\n",
    "        self.config = read_yaml(config_filepath)\n",
    "        self.params = read_yaml(params_filepath)\n",
    "\n",
    "        create_dictionaries([self.config.artifacts_root])\n",
    "        \n",
    "        \n",
    "    def get_prepare_callback_config(self) -> PrepareCallbacksConfig:\n",
    "        config=self.config.prepare_callbacks\n",
    "        model_ckpt_dir = os.path.dirname(config.checkpoint_model_filepath)\n",
    "        create_dictionaries([\n",
    "            Path(model_ckpt_dir),\n",
    "            Path(config.tensorboard_root_log_dir)\n",
    "        ])\n",
    "\n",
    "        prepare_callback_config = PrepareCallbacksConfig(\n",
    "            root_dir=Path(config.root_dir),\n",
    "            tensorboard_root_log_dir=Path(config.tensorboard_root_log_dir),\n",
    "            checkpoint_model_filepath=Path(config.checkpoint_model_filepath)\n",
    "        )\n",
    "\n",
    "        return prepare_callback_config"
   ]
  },
  {
   "cell_type": "code",
   "execution_count": 7,
   "metadata": {},
   "outputs": [],
   "source": [
    "#update the components\n",
    "\n",
    "import os\n",
    "import urllib.request as request\n",
    "import zipfile\n",
    "from cnnClassifiers.utils.common import get_size\n",
    "from cnnClassifiers import logger\n",
    "import tensorflow as tf\n",
    "import time\n"
   ]
  },
  {
   "cell_type": "code",
   "execution_count": 8,
   "metadata": {},
   "outputs": [],
   "source": [
    "class PrepareCallback:\n",
    "    def __init__(self, config: PrepareCallbacksConfig):\n",
    "        self.config = config\n",
    "\n",
    "\n",
    "    \n",
    "    @property\n",
    "    def _create_tb_callbacks(self):\n",
    "        timestamp = time.strftime(\"%Y-%m-%d-%H-%M-%S\")\n",
    "        tb_running_log_dir = os.path.join(\n",
    "            self.config.tensorboard_root_log_dir,\n",
    "            f\"tb_logs_at_{timestamp}\"\n",
    "        )\n",
    "        return tf.keras.callbacks.TensorBoard(log_dir=tb_running_log_dir)\n",
    "    \n",
    "\n",
    "    @property\n",
    "    def _create_ckpt_callbacks(self):\n",
    "        return tf.keras.callbacks.ModelCheckpoint(\n",
    "            filepath=self.config.checkpoint_model_filepath,\n",
    "            save_best_only=True\n",
    "        )\n",
    "\n",
    "\n",
    "    def get_tb_ckpt_callbacks(self):\n",
    "        return [\n",
    "            self._create_tb_callbacks,\n",
    "            self._create_ckpt_callbacks\n",
    "        ]"
   ]
  },
  {
   "cell_type": "code",
   "execution_count": 9,
   "metadata": {},
   "outputs": [
    {
     "name": "stdout",
     "output_type": "stream",
     "text": [
      "[2023-08-01 15:21:25,041: INFO: common: yaml file: config\\config.yaml loaded successfully]\n",
      "[2023-08-01 15:21:25,073: INFO: common: yaml file: params.yaml loaded successfully]\n",
      "[2023-08-01 15:21:25,081: INFO: common: created directory at path :artifacts]\n",
      "[2023-08-01 15:21:25,089: INFO: common: created directory at path :artifacts\\prepare_callbacks\\checkpoint_dir]\n",
      "[2023-08-01 15:21:25,089: INFO: common: created directory at path :artifacts\\prepare_callbacks\\tensorboard_log_dir]\n"
     ]
    },
    {
     "ename": "AttributeError",
     "evalue": "'WindowsPath' object has no attribute 'endswith'",
     "output_type": "error",
     "traceback": [
      "\u001b[1;31m---------------------------------------------------------------------------\u001b[0m",
      "\u001b[1;31mAttributeError\u001b[0m                            Traceback (most recent call last)",
      "Cell \u001b[1;32mIn[9], line 10\u001b[0m\n\u001b[0;32m      7\u001b[0m     callback_list\u001b[39m=\u001b[39mprepare_callback\u001b[39m.\u001b[39mget_tb_ckpt_callbacks()\n\u001b[0;32m      9\u001b[0m \u001b[39mexcept\u001b[39;00m \u001b[39mException\u001b[39;00m \u001b[39mas\u001b[39;00m e:\n\u001b[1;32m---> 10\u001b[0m     \u001b[39mraise\u001b[39;00m e\n",
      "Cell \u001b[1;32mIn[9], line 7\u001b[0m\n\u001b[0;32m      5\u001b[0m     prepare_callback_config\u001b[39m=\u001b[39mconfig\u001b[39m.\u001b[39mget_prepare_callback_config()\n\u001b[0;32m      6\u001b[0m     prepare_callback\u001b[39m=\u001b[39mPrepareCallback(config\u001b[39m=\u001b[39mprepare_callback_config)\n\u001b[1;32m----> 7\u001b[0m     callback_list\u001b[39m=\u001b[39mprepare_callback\u001b[39m.\u001b[39;49mget_tb_ckpt_callbacks()\n\u001b[0;32m      9\u001b[0m \u001b[39mexcept\u001b[39;00m \u001b[39mException\u001b[39;00m \u001b[39mas\u001b[39;00m e:\n\u001b[0;32m     10\u001b[0m     \u001b[39mraise\u001b[39;00m e\n",
      "Cell \u001b[1;32mIn[8], line 28\u001b[0m, in \u001b[0;36mPrepareCallback.get_tb_ckpt_callbacks\u001b[1;34m(self)\u001b[0m\n\u001b[0;32m     25\u001b[0m \u001b[39mdef\u001b[39;00m \u001b[39mget_tb_ckpt_callbacks\u001b[39m(\u001b[39mself\u001b[39m):\n\u001b[0;32m     26\u001b[0m     \u001b[39mreturn\u001b[39;00m [\n\u001b[0;32m     27\u001b[0m         \u001b[39mself\u001b[39m\u001b[39m.\u001b[39m_create_tb_callbacks,\n\u001b[1;32m---> 28\u001b[0m         \u001b[39mself\u001b[39;49m\u001b[39m.\u001b[39;49m_create_ckpt_callbacks\n\u001b[0;32m     29\u001b[0m     ]\n",
      "Cell \u001b[1;32mIn[8], line 19\u001b[0m, in \u001b[0;36mPrepareCallback._create_ckpt_callbacks\u001b[1;34m(self)\u001b[0m\n\u001b[0;32m     17\u001b[0m \u001b[39m@property\u001b[39m\n\u001b[0;32m     18\u001b[0m \u001b[39mdef\u001b[39;00m \u001b[39m_create_ckpt_callbacks\u001b[39m(\u001b[39mself\u001b[39m):\n\u001b[1;32m---> 19\u001b[0m     \u001b[39mreturn\u001b[39;00m tf\u001b[39m.\u001b[39;49mkeras\u001b[39m.\u001b[39;49mcallbacks\u001b[39m.\u001b[39;49mModelCheckpoint(\n\u001b[0;32m     20\u001b[0m         filepath\u001b[39m=\u001b[39;49m\u001b[39mself\u001b[39;49m\u001b[39m.\u001b[39;49mconfig\u001b[39m.\u001b[39;49mcheckpoint_model_filepath,\n\u001b[0;32m     21\u001b[0m         save_best_only\u001b[39m=\u001b[39;49m\u001b[39mTrue\u001b[39;49;00m\n\u001b[0;32m     22\u001b[0m     )\n",
      "File \u001b[1;32mc:\\Users\\Rohan Brahmakshatri\\anaconda3\\envs\\chicken\\lib\\site-packages\\keras\\src\\callbacks.py:1369\u001b[0m, in \u001b[0;36mModelCheckpoint.__init__\u001b[1;34m(self, filepath, monitor, verbose, save_best_only, save_weights_only, mode, save_freq, options, initial_value_threshold, **kwargs)\u001b[0m\n\u001b[0;32m   1363\u001b[0m         \u001b[39mraise\u001b[39;00m \u001b[39mTypeError\u001b[39;00m(\n\u001b[0;32m   1364\u001b[0m             \u001b[39m\"\u001b[39m\u001b[39mIf save_weights_only is True, then `options` must be \u001b[39m\u001b[39m\"\u001b[39m\n\u001b[0;32m   1365\u001b[0m             \u001b[39m\"\u001b[39m\u001b[39meither None or a tf.train.CheckpointOptions. \u001b[39m\u001b[39m\"\u001b[39m\n\u001b[0;32m   1366\u001b[0m             \u001b[39mf\u001b[39m\u001b[39m\"\u001b[39m\u001b[39mGot \u001b[39m\u001b[39m{\u001b[39;00moptions\u001b[39m}\u001b[39;00m\u001b[39m.\u001b[39m\u001b[39m\"\u001b[39m\n\u001b[0;32m   1367\u001b[0m         )\n\u001b[0;32m   1368\u001b[0m \u001b[39melse\u001b[39;00m:\n\u001b[1;32m-> 1369\u001b[0m     \u001b[39mif\u001b[39;00m filepath \u001b[39mand\u001b[39;00m filepath\u001b[39m.\u001b[39;49mendswith(\u001b[39m\"\u001b[39m\u001b[39m.keras\u001b[39m\u001b[39m\"\u001b[39m) \u001b[39mand\u001b[39;00m options \u001b[39mis\u001b[39;00m \u001b[39mnot\u001b[39;00m \u001b[39mNone\u001b[39;00m:\n\u001b[0;32m   1370\u001b[0m         \u001b[39mraise\u001b[39;00m \u001b[39mValueError\u001b[39;00m(\n\u001b[0;32m   1371\u001b[0m             \u001b[39m\"\u001b[39m\u001b[39mThe native Keras format does not support \u001b[39m\u001b[39m\"\u001b[39m\n\u001b[0;32m   1372\u001b[0m             \u001b[39m\"\u001b[39m\u001b[39mthe `options` argument. Please remove \u001b[39m\u001b[39m\"\u001b[39m\n\u001b[1;32m   (...)\u001b[0m\n\u001b[0;32m   1375\u001b[0m             \u001b[39m\"\u001b[39m\u001b[39mthe model filepath.\u001b[39m\u001b[39m\"\u001b[39m\n\u001b[0;32m   1376\u001b[0m         )\n\u001b[0;32m   1377\u001b[0m     \u001b[39mif\u001b[39;00m options \u001b[39mis\u001b[39;00m \u001b[39mNone\u001b[39;00m \u001b[39mor\u001b[39;00m \u001b[39misinstance\u001b[39m(\n\u001b[0;32m   1378\u001b[0m         options, tf\u001b[39m.\u001b[39msaved_model\u001b[39m.\u001b[39mSaveOptions\n\u001b[0;32m   1379\u001b[0m     ):\n",
      "\u001b[1;31mAttributeError\u001b[0m: 'WindowsPath' object has no attribute 'endswith'"
     ]
    }
   ],
   "source": [
    "#update the pipeline\n",
    "\n",
    "try:\n",
    "    config=ConfigurationManager()\n",
    "    prepare_callback_config=config.get_prepare_callback_config()\n",
    "    prepare_callback=PrepareCallback(config=prepare_callback_config)\n",
    "    callback_list=prepare_callback.get_tb_ckpt_callbacks()\n",
    "    \n",
    "except Exception as e:\n",
    "    raise e\n"
   ]
  },
  {
   "cell_type": "code",
   "execution_count": null,
   "metadata": {},
   "outputs": [],
   "source": []
  }
 ],
 "metadata": {
  "kernelspec": {
   "display_name": "chicken",
   "language": "python",
   "name": "python3"
  },
  "language_info": {
   "codemirror_mode": {
    "name": "ipython",
    "version": 3
   },
   "file_extension": ".py",
   "mimetype": "text/x-python",
   "name": "python",
   "nbconvert_exporter": "python",
   "pygments_lexer": "ipython3",
   "version": "3.9.17"
  },
  "orig_nbformat": 4
 },
 "nbformat": 4,
 "nbformat_minor": 2
}
